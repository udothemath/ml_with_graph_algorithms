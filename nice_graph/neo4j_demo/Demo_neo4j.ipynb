{
 "cells": [
  {
   "cell_type": "code",
   "execution_count": 1,
   "metadata": {},
   "outputs": [],
   "source": [
    "from neo4j import GraphDatabase\n",
    "import pandas as pd\n",
    "import numpy as np\n",
    "from tqdm import tqdm\n",
    "import json\n",
    "import time"
   ]
  },
  {
   "cell_type": "markdown",
   "metadata": {},
   "source": [
    "## 前處理\n",
    "以 arxiv 資料及為例"
   ]
  },
  {
   "cell_type": "code",
   "execution_count": 2,
   "metadata": {},
   "outputs": [
    {
     "name": "stderr",
     "output_type": "stream",
     "text": [
      "999it [00:00, 26177.06it/s]\n"
     ]
    }
   ],
   "source": [
    "file = \"data/arxiv_metadata.json\"\n",
    "\n",
    "metadata  = []\n",
    "\n",
    "lines = 1000    # 1k for testing\n",
    "\n",
    "with open(file, 'r') as f:\n",
    "    \n",
    "    for line in tqdm(f):\n",
    "        metadata.append(json.loads(line))\n",
    "        lines -= 1\n",
    "        if lines == 0: break\n",
    "            \n",
    "df = pd.DataFrame(metadata)"
   ]
  },
  {
   "cell_type": "code",
   "execution_count": 3,
   "metadata": {},
   "outputs": [
    {
     "data": {
      "text/plain": [
       "(1000, 14)"
      ]
     },
     "execution_count": 3,
     "metadata": {},
     "output_type": "execute_result"
    }
   ],
   "source": [
    "df.shape"
   ]
  },
  {
   "cell_type": "code",
   "execution_count": 4,
   "metadata": {},
   "outputs": [],
   "source": [
    "def get_author_list(line):\n",
    "    # Cleans author dataframe column, creating a list of authors in the row.\n",
    "    return [e[1] + ' ' + e[0] for e in line]\n",
    "\n",
    "\n",
    "def get_category_list(line):\n",
    "    # Cleans category dataframe column, creating a list of categories in the row.\n",
    "    return list(line.split(\" \"))\n",
    "\n",
    "\n",
    "df['cleaned_authors_list'] = df['authors_parsed'].map(get_author_list)\n",
    "df['category_list'] = df['categories'].map(get_category_list)\n",
    "df = df.drop(['submitter', 'authors', \n",
    "             'comments', 'journal-ref', \n",
    "             'doi', 'report-no', 'license', \n",
    "             'versions', 'update_date', \n",
    "             'abstract', 'authors_parsed', \n",
    "             'categories'], axis=1)"
   ]
  },
  {
   "cell_type": "code",
   "execution_count": 5,
   "metadata": {},
   "outputs": [
    {
     "data": {
      "text/html": [
       "<div>\n",
       "<style scoped>\n",
       "    .dataframe tbody tr th:only-of-type {\n",
       "        vertical-align: middle;\n",
       "    }\n",
       "\n",
       "    .dataframe tbody tr th {\n",
       "        vertical-align: top;\n",
       "    }\n",
       "\n",
       "    .dataframe thead th {\n",
       "        text-align: right;\n",
       "    }\n",
       "</style>\n",
       "<table border=\"1\" class=\"dataframe\">\n",
       "  <thead>\n",
       "    <tr style=\"text-align: right;\">\n",
       "      <th></th>\n",
       "      <th>id</th>\n",
       "      <th>title</th>\n",
       "      <th>cleaned_authors_list</th>\n",
       "      <th>category_list</th>\n",
       "    </tr>\n",
       "  </thead>\n",
       "  <tbody>\n",
       "    <tr>\n",
       "      <th>0</th>\n",
       "      <td>0704.0001</td>\n",
       "      <td>Calculation of prompt diphoton production cros...</td>\n",
       "      <td>[C. Balázs, E. L. Berger, P. M. Nadolsky, C. -...</td>\n",
       "      <td>[hep-ph]</td>\n",
       "    </tr>\n",
       "    <tr>\n",
       "      <th>1</th>\n",
       "      <td>0704.0002</td>\n",
       "      <td>Sparsity-certifying Graph Decompositions</td>\n",
       "      <td>[Ileana Streinu, Louis Theran]</td>\n",
       "      <td>[math.CO, cs.CG]</td>\n",
       "    </tr>\n",
       "    <tr>\n",
       "      <th>2</th>\n",
       "      <td>0704.0003</td>\n",
       "      <td>The evolution of the Earth-Moon system based o...</td>\n",
       "      <td>[Hongjun Pan]</td>\n",
       "      <td>[physics.gen-ph]</td>\n",
       "    </tr>\n",
       "    <tr>\n",
       "      <th>3</th>\n",
       "      <td>0704.0004</td>\n",
       "      <td>A determinant of Stirling cycle numbers counts...</td>\n",
       "      <td>[David Callan]</td>\n",
       "      <td>[math.CO]</td>\n",
       "    </tr>\n",
       "    <tr>\n",
       "      <th>4</th>\n",
       "      <td>0704.0005</td>\n",
       "      <td>From dyadic $\\Lambda_{\\alpha}$ to $\\Lambda_{\\a...</td>\n",
       "      <td>[Wael Abu-Shammala, Alberto Torchinsky]</td>\n",
       "      <td>[math.CA, math.FA]</td>\n",
       "    </tr>\n",
       "  </tbody>\n",
       "</table>\n",
       "</div>"
      ],
      "text/plain": [
       "          id                                              title  \\\n",
       "0  0704.0001  Calculation of prompt diphoton production cros...   \n",
       "1  0704.0002           Sparsity-certifying Graph Decompositions   \n",
       "2  0704.0003  The evolution of the Earth-Moon system based o...   \n",
       "3  0704.0004  A determinant of Stirling cycle numbers counts...   \n",
       "4  0704.0005  From dyadic $\\Lambda_{\\alpha}$ to $\\Lambda_{\\a...   \n",
       "\n",
       "                                cleaned_authors_list       category_list  \n",
       "0  [C. Balázs, E. L. Berger, P. M. Nadolsky, C. -...            [hep-ph]  \n",
       "1                     [Ileana Streinu, Louis Theran]    [math.CO, cs.CG]  \n",
       "2                                      [Hongjun Pan]    [physics.gen-ph]  \n",
       "3                                     [David Callan]           [math.CO]  \n",
       "4            [Wael Abu-Shammala, Alberto Torchinsky]  [math.CA, math.FA]  "
      ]
     },
     "execution_count": 5,
     "metadata": {},
     "output_type": "execute_result"
    }
   ],
   "source": [
    "df.head()"
   ]
  },
  {
   "cell_type": "markdown",
   "metadata": {},
   "source": [
    "## Create neo4j connect\n",
    "Neo4j 是用來建立從python 傳 cypher 的橋樑\n",
    "\n",
    "並沒有 像 py2neo 有獨立的建立方式\n",
    "\n",
    "---\n",
    "\n",
    "Neo4j 是連接整個 driver （包含底下的所有 DB，所以下 query 的時候要指定 DB)。（不確定是否可以指定 system）\n",
    "\n",
    "而 py2neo 是以 graph 為單位進行連接的\n"
   ]
  },
  {
   "cell_type": "code",
   "execution_count": 6,
   "metadata": {},
   "outputs": [],
   "source": [
    "\n",
    "class Neo4jConnection:\n",
    "    '''\n",
    "    準備一個 connector\n",
    "    + 負責建橋、砸橋（？\n",
    "    + 傳入 cypher 到 neo4j 並接受 RETRUN 的東西\n",
    "    '''\n",
    "    def __init__(self, uri, user, pwd):\n",
    "        self.__uri = uri\n",
    "        self.__user = user\n",
    "        self.__pwd = pwd\n",
    "        self.__driver = None\n",
    "        try:\n",
    "            self.__driver = GraphDatabase.driver(self.__uri, auth=(self.__user, self.__pwd))\n",
    "        except Exception as e:\n",
    "            print(\"Failed to create the driver:\", e)\n",
    "        \n",
    "    def close(self):\n",
    "        if self.__driver is not None:\n",
    "            self.__driver.close()\n",
    "        \n",
    "    def query(self, query, parameters=None, db='arXiv'):\n",
    "        assert self.__driver is not None, \"Driver not initialized!\"\n",
    "        session = None \n",
    "        response = None\n",
    "        try: \n",
    "            session = self.__driver.session(database=db) if db is not None else self.__driver.session() \n",
    "            response = list(session.run(query, parameters))\n",
    "        except Exception as e:\n",
    "            print(\"Query failed:\", e)\n",
    "        finally: \n",
    "            if session is not None:\n",
    "                session.close()\n",
    "        return response\n"
   ]
  },
  {
   "cell_type": "code",
   "execution_count": 7,
   "metadata": {},
   "outputs": [],
   "source": [
    "conn = Neo4jConnection(uri=\"bolt://localhost:7687\", user=\"neo4j\", pwd=\"123\")"
   ]
  },
  {
   "cell_type": "code",
   "execution_count": 8,
   "metadata": {},
   "outputs": [
    {
     "name": "stdout",
     "output_type": "stream",
     "text": [
      "Query failed: {code: Neo.ClientError.Schema.EquivalentSchemaRuleAlreadyExists} {message: An equivalent constraint already exists, 'Constraint( id=4, name='unique_paper', type='UNIQUENESS', schema=(:Paper {id}), ownedIndex=3 )'.}\n",
      "Query failed: {code: Neo.ClientError.Schema.EquivalentSchemaRuleAlreadyExists} {message: An equivalent constraint already exists, 'Constraint( id=6, name='unique_author', type='UNIQUENESS', schema=(:Author {name}), ownedIndex=5 )'.}\n",
      "Query failed: {code: Neo.ClientError.Schema.EquivalentSchemaRuleAlreadyExists} {message: An equivalent constraint already exists, 'Constraint( id=8, name='unique_category', type='UNIQUENESS', schema=(:Category {category}), ownedIndex=7 )'.}\n"
     ]
    }
   ],
   "source": [
    "conn.query(\"CREATE CONSTRAINT unique_paper FOR (p:Paper) REQUIRE p.id IS UNIQUE\", db='arXiv')\n",
    "conn.query(\"CREATE CONSTRAINT unique_author FOR (a:Author) REQUIRE a.name IS UNIQUE\", db='arXiv')\n",
    "conn.query(\"CREATE CONSTRAINT unique_category FOR (c:Category) REQUIRE c.category IS UNIQUE\", db='arXiv')"
   ]
  },
  {
   "cell_type": "code",
   "execution_count": 9,
   "metadata": {},
   "outputs": [],
   "source": [
    "def add_categories(categories):\n",
    "    # Adds category nodes to the Neo4j graph.\n",
    "    # $ 代表要傳入的參數\n",
    "    # {} 是 cypher 跟外部無關\n",
    "    # UNWIND 像是 for 迴圈，遍歷所有對象\n",
    "    # MERGE = if not MATCH, then CREATE\n",
    "    # to_dict = [{'category': 'name_1'}, {'category': 'name_2'}, .....]\n",
    "    query = '''\n",
    "            UNWIND $rows AS row \n",
    "            MERGE (c:Category {category: row.category})\n",
    "            RETURN count(*) as total\n",
    "            '''\n",
    "    return conn.query(query, parameters = {'rows':categories.to_dict('records')})"
   ]
  },
  {
   "cell_type": "code",
   "execution_count": 10,
   "metadata": {},
   "outputs": [],
   "source": [
    "def insert_data(query, rows, batch_size = 100):\n",
    "    # Function to handle the updating the Neo4j database in batch mode.\n",
    "    \n",
    "    total = 0\n",
    "    batch = 0\n",
    "    start = time.time()\n",
    "    result = None\n",
    "    \n",
    "    while batch * batch_size < len(rows):\n",
    "\n",
    "        res = conn.query(query, \n",
    "                         parameters = {'rows': rows[batch*batch_size:(batch+1)*batch_size].to_dict('records')})\n",
    "        total += res[0]['total'] # 回傳的東西會是 list\n",
    "        batch += 1\n",
    "        result = {\"total\":total, \n",
    "                  \"batches\":batch, \n",
    "                  \"time\":time.time()-start}\n",
    "        print(result)\n",
    "        \n",
    "    return result"
   ]
  },
  {
   "cell_type": "code",
   "execution_count": 11,
   "metadata": {},
   "outputs": [],
   "source": [
    "def add_authors(rows, batch_size=100):\n",
    "    # Adds author nodes to the Neo4j graph as a batch job.\n",
    "    query = '''\n",
    "            UNWIND $rows AS row\n",
    "            MERGE (:Author {name: row.author})\n",
    "            RETURN count(*) as total\n",
    "            '''\n",
    "    return insert_data(query, rows, batch_size)"
   ]
  },
  {
   "cell_type": "code",
   "execution_count": 12,
   "metadata": {},
   "outputs": [],
   "source": [
    "def add_papers(rows, batch_size=50):\n",
    "   # Adds paper nodes and (:Author)--(:Paper) and \n",
    "   # (:Paper)--(:Category) relationships to the Neo4j graph as a \n",
    "   # batch job.\n",
    "   # MERGE ON CREATE SET : Merge a node and set properties if the node needs to be created.\n",
    "   # MERGE ON MATCH SET : Merge a node and set properties if the node are found.\n",
    "   \n",
    "   query = '''\n",
    "   UNWIND $rows as row\n",
    "   MERGE (p:Paper {id:row.id}) ON CREATE SET p.title = row.title\n",
    " \n",
    "   // connect categories\n",
    "   WITH row, p\n",
    "   UNWIND row.category_list AS category_name\n",
    "   MATCH (c:Category {category: category_name})\n",
    "   MERGE (p)-[:IN_CATEGORY]->(c)\n",
    " \n",
    "   // connect authors\n",
    "   WITH distinct row, p // reduce cardinality\n",
    "   UNWIND row.cleaned_authors_list AS author\n",
    "   MATCH (a:Author {name: author})\n",
    "   MERGE (a)-[:AUTHORED]->(p)\n",
    "   RETURN count(distinct p) as total\n",
    "   '''\n",
    " \n",
    "   return insert_data(query, rows, batch_size)"
   ]
  },
  {
   "cell_type": "code",
   "execution_count": 13,
   "metadata": {},
   "outputs": [
    {
     "name": "stdout",
     "output_type": "stream",
     "text": [
      "{'total': 100, 'batches': 1, 'time': 0.30388498306274414}\n",
      "{'total': 200, 'batches': 2, 'time': 0.4838831424713135}\n",
      "{'total': 300, 'batches': 3, 'time': 0.6468002796173096}\n",
      "{'total': 400, 'batches': 4, 'time': 0.8205969333648682}\n",
      "{'total': 500, 'batches': 5, 'time': 0.9042003154754639}\n",
      "{'total': 600, 'batches': 6, 'time': 0.983361005783081}\n",
      "{'total': 700, 'batches': 7, 'time': 1.0516211986541748}\n",
      "{'total': 800, 'batches': 8, 'time': 1.1373450756072998}\n",
      "{'total': 900, 'batches': 9, 'time': 1.2101860046386719}\n",
      "{'total': 1000, 'batches': 10, 'time': 1.2697420120239258}\n",
      "{'total': 1100, 'batches': 11, 'time': 1.4041051864624023}\n",
      "{'total': 1200, 'batches': 12, 'time': 1.4376680850982666}\n",
      "{'total': 1300, 'batches': 13, 'time': 1.476639986038208}\n",
      "{'total': 1400, 'batches': 14, 'time': 1.5192251205444336}\n",
      "{'total': 1500, 'batches': 15, 'time': 1.5577671527862549}\n",
      "{'total': 1600, 'batches': 16, 'time': 1.599647045135498}\n",
      "{'total': 1700, 'batches': 17, 'time': 1.65061616897583}\n",
      "{'total': 1800, 'batches': 18, 'time': 1.7216839790344238}\n",
      "{'total': 1900, 'batches': 19, 'time': 1.8091840744018555}\n",
      "{'total': 2000, 'batches': 20, 'time': 1.875770092010498}\n",
      "{'total': 2100, 'batches': 21, 'time': 1.9576261043548584}\n",
      "{'total': 2200, 'batches': 22, 'time': 2.015334129333496}\n",
      "{'total': 2300, 'batches': 23, 'time': 2.050938129425049}\n",
      "{'total': 2400, 'batches': 24, 'time': 2.0843451023101807}\n",
      "{'total': 2500, 'batches': 25, 'time': 2.1215391159057617}\n",
      "{'total': 2600, 'batches': 26, 'time': 2.1581990718841553}\n",
      "{'total': 2700, 'batches': 27, 'time': 2.1927361488342285}\n",
      "{'total': 2800, 'batches': 28, 'time': 2.2345662117004395}\n",
      "{'total': 2870, 'batches': 29, 'time': 2.3017311096191406}\n",
      "{'total': 50, 'batches': 1, 'time': 1.0557708740234375}\n",
      "{'total': 100, 'batches': 2, 'time': 1.2039837837219238}\n",
      "{'total': 150, 'batches': 3, 'time': 1.3244149684906006}\n",
      "{'total': 200, 'batches': 4, 'time': 1.3987689018249512}\n",
      "{'total': 250, 'batches': 5, 'time': 1.4536478519439697}\n",
      "{'total': 300, 'batches': 6, 'time': 1.5072541236877441}\n",
      "{'total': 350, 'batches': 7, 'time': 1.6188468933105469}\n",
      "{'total': 400, 'batches': 8, 'time': 1.705631971359253}\n",
      "{'total': 450, 'batches': 9, 'time': 1.8057498931884766}\n",
      "{'total': 500, 'batches': 10, 'time': 1.9082000255584717}\n",
      "{'total': 550, 'batches': 11, 'time': 2.1154158115386963}\n",
      "{'total': 600, 'batches': 12, 'time': 2.199902057647705}\n",
      "{'total': 650, 'batches': 13, 'time': 2.264967918395996}\n",
      "{'total': 700, 'batches': 14, 'time': 2.3475348949432373}\n",
      "{'total': 750, 'batches': 15, 'time': 2.4116599559783936}\n",
      "{'total': 800, 'batches': 16, 'time': 2.4852280616760254}\n",
      "{'total': 850, 'batches': 17, 'time': 2.535754919052124}\n",
      "{'total': 900, 'batches': 18, 'time': 2.587563991546631}\n",
      "{'total': 950, 'batches': 19, 'time': 2.6464059352874756}\n",
      "{'total': 1000, 'batches': 20, 'time': 2.788080930709839}\n"
     ]
    },
    {
     "data": {
      "text/plain": [
       "{'total': 1000, 'batches': 20, 'time': 2.788080930709839}"
      ]
     },
     "execution_count": 13,
     "metadata": {},
     "output_type": "execute_result"
    }
   ],
   "source": [
    "categories = pd.DataFrame(df[['category_list']])\n",
    "categories.rename(columns={'category_list':'category'},\n",
    "                  inplace=True)\n",
    "categories = categories.explode('category') \\\n",
    "                       .drop_duplicates(subset=['category'])\n",
    "\n",
    "authors = pd.DataFrame(df[['cleaned_authors_list']])\n",
    "authors.rename(columns={'cleaned_authors_list':'author'},\n",
    "               inplace=True)\n",
    "authors=authors.explode('author').drop_duplicates(subset=['author'])\n",
    "\n",
    "add_categories(categories)\n",
    "add_authors(authors)\n",
    "add_papers(df)"
   ]
  },
  {
   "cell_type": "markdown",
   "metadata": {},
   "source": [
    "喔我的電腦要燒起來了"
   ]
  },
  {
   "cell_type": "code",
   "execution_count": 14,
   "metadata": {},
   "outputs": [
    {
     "data": {
      "text/html": [
       "<div>\n",
       "<style scoped>\n",
       "    .dataframe tbody tr th:only-of-type {\n",
       "        vertical-align: middle;\n",
       "    }\n",
       "\n",
       "    .dataframe tbody tr th {\n",
       "        vertical-align: top;\n",
       "    }\n",
       "\n",
       "    .dataframe thead th {\n",
       "        text-align: right;\n",
       "    }\n",
       "</style>\n",
       "<table border=\"1\" class=\"dataframe\">\n",
       "  <thead>\n",
       "    <tr style=\"text-align: right;\">\n",
       "      <th></th>\n",
       "      <th>c.category</th>\n",
       "      <th>inDegree</th>\n",
       "    </tr>\n",
       "  </thead>\n",
       "  <tbody>\n",
       "    <tr>\n",
       "      <th>0</th>\n",
       "      <td>astro-ph</td>\n",
       "      <td>208</td>\n",
       "    </tr>\n",
       "    <tr>\n",
       "      <th>1</th>\n",
       "      <td>hep-th</td>\n",
       "      <td>89</td>\n",
       "    </tr>\n",
       "    <tr>\n",
       "      <th>2</th>\n",
       "      <td>hep-ph</td>\n",
       "      <td>80</td>\n",
       "    </tr>\n",
       "    <tr>\n",
       "      <th>3</th>\n",
       "      <td>quant-ph</td>\n",
       "      <td>67</td>\n",
       "    </tr>\n",
       "    <tr>\n",
       "      <th>4</th>\n",
       "      <td>cond-mat.mtrl-sci</td>\n",
       "      <td>56</td>\n",
       "    </tr>\n",
       "    <tr>\n",
       "      <th>5</th>\n",
       "      <td>cond-mat.str-el</td>\n",
       "      <td>55</td>\n",
       "    </tr>\n",
       "    <tr>\n",
       "      <th>6</th>\n",
       "      <td>gr-qc</td>\n",
       "      <td>55</td>\n",
       "    </tr>\n",
       "    <tr>\n",
       "      <th>7</th>\n",
       "      <td>cond-mat.mes-hall</td>\n",
       "      <td>50</td>\n",
       "    </tr>\n",
       "    <tr>\n",
       "      <th>8</th>\n",
       "      <td>cond-mat.stat-mech</td>\n",
       "      <td>47</td>\n",
       "    </tr>\n",
       "    <tr>\n",
       "      <th>9</th>\n",
       "      <td>math.MP</td>\n",
       "      <td>35</td>\n",
       "    </tr>\n",
       "    <tr>\n",
       "      <th>10</th>\n",
       "      <td>math-ph</td>\n",
       "      <td>35</td>\n",
       "    </tr>\n",
       "    <tr>\n",
       "      <th>11</th>\n",
       "      <td>nucl-th</td>\n",
       "      <td>32</td>\n",
       "    </tr>\n",
       "    <tr>\n",
       "      <th>12</th>\n",
       "      <td>cond-mat.supr-con</td>\n",
       "      <td>29</td>\n",
       "    </tr>\n",
       "    <tr>\n",
       "      <th>13</th>\n",
       "      <td>cond-mat.other</td>\n",
       "      <td>29</td>\n",
       "    </tr>\n",
       "    <tr>\n",
       "      <th>14</th>\n",
       "      <td>math.PR</td>\n",
       "      <td>25</td>\n",
       "    </tr>\n",
       "    <tr>\n",
       "      <th>15</th>\n",
       "      <td>math.AG</td>\n",
       "      <td>25</td>\n",
       "    </tr>\n",
       "    <tr>\n",
       "      <th>16</th>\n",
       "      <td>math.CO</td>\n",
       "      <td>25</td>\n",
       "    </tr>\n",
       "    <tr>\n",
       "      <th>17</th>\n",
       "      <td>physics.optics</td>\n",
       "      <td>24</td>\n",
       "    </tr>\n",
       "    <tr>\n",
       "      <th>18</th>\n",
       "      <td>hep-ex</td>\n",
       "      <td>24</td>\n",
       "    </tr>\n",
       "    <tr>\n",
       "      <th>19</th>\n",
       "      <td>cond-mat.soft</td>\n",
       "      <td>23</td>\n",
       "    </tr>\n",
       "  </tbody>\n",
       "</table>\n",
       "</div>"
      ],
      "text/plain": [
       "            c.category  inDegree\n",
       "0             astro-ph       208\n",
       "1               hep-th        89\n",
       "2               hep-ph        80\n",
       "3             quant-ph        67\n",
       "4    cond-mat.mtrl-sci        56\n",
       "5      cond-mat.str-el        55\n",
       "6                gr-qc        55\n",
       "7    cond-mat.mes-hall        50\n",
       "8   cond-mat.stat-mech        47\n",
       "9              math.MP        35\n",
       "10             math-ph        35\n",
       "11             nucl-th        32\n",
       "12   cond-mat.supr-con        29\n",
       "13      cond-mat.other        29\n",
       "14             math.PR        25\n",
       "15             math.AG        25\n",
       "16             math.CO        25\n",
       "17      physics.optics        24\n",
       "18              hep-ex        24\n",
       "19       cond-mat.soft        23"
      ]
     },
     "execution_count": 14,
     "metadata": {},
     "output_type": "execute_result"
    }
   ],
   "source": [
    "\n",
    "# SIZE 計算數量\n",
    "query_string = '''\n",
    "MATCH (c:Category) \n",
    "RETURN c.category, SIZE(()-[:IN_CATEGORY]->(c)) AS inDegree \n",
    "ORDER BY inDegree DESC LIMIT 20\n",
    "'''\n",
    "top_cat_df = pd.DataFrame([dict(_) for _ in conn.query(query_string)])\n",
    "top_cat_df.head(20)"
   ]
  },
  {
   "cell_type": "code",
   "execution_count": null,
   "metadata": {},
   "outputs": [],
   "source": []
  }
 ],
 "metadata": {
  "interpreter": {
   "hash": "1c56087271ff6a509c683d39c4752c92b0c6dd1c18eb7c5bc5e74a18e6efaff3"
  },
  "kernelspec": {
   "display_name": "Python 3.7.13 ('venv': venv)",
   "language": "python",
   "name": "python3"
  },
  "language_info": {
   "codemirror_mode": {
    "name": "ipython",
    "version": 3
   },
   "file_extension": ".py",
   "mimetype": "text/x-python",
   "name": "python",
   "nbconvert_exporter": "python",
   "pygments_lexer": "ipython3",
   "version": "3.7.13"
  },
  "orig_nbformat": 4
 },
 "nbformat": 4,
 "nbformat_minor": 2
}
