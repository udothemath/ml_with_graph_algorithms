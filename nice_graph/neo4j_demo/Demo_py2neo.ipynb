{
 "cells": [
  {
   "cell_type": "markdown",
   "metadata": {},
   "source": [
    "上手 py2neo 階段，大概只要認識 5 個物件\n",
    "1. Node，創建節點\n",
    "2. Relationship, 創建關係\n",
    "3. Graph, 連接 ＤＢ\n",
    "4. NodeMatcher, 尋找點\n",
    "5. RelationshipMatcher, 尋找關係"
   ]
  },
  {
   "cell_type": "code",
   "execution_count": 2,
   "metadata": {},
   "outputs": [],
   "source": [
    "from py2neo import Node, Relationship, Graph, NodeMatcher, RelationshipMatcher"
   ]
  },
  {
   "cell_type": "markdown",
   "metadata": {},
   "source": [
    "新版 py2neo & neo4j （ >4.0)\n",
    "可以透過 name 來指定 database\n",
    "\n",
    "否則預設都是 None -> Default\n",
    "\n",
    "---\n",
    "舊版不行指定（v5之前），通通Default，如果舊版要換 DB 可以到 neo4j.conf 修改 Default 啟動的 DB 是哪個\n",
    "\n",
    "然後再重新啟動 neo4j 就行了"
   ]
  },
  {
   "cell_type": "code",
   "execution_count": 3,
   "metadata": {},
   "outputs": [],
   "source": [
    "graph = Graph('bolt://localhost:7687', name='neo4j', password='123')"
   ]
  },
  {
   "cell_type": "markdown",
   "metadata": {},
   "source": [
    "通常會在建立資料前，先在 DB 下限制\n",
    "\n",
    "graph.schema\n"
   ]
  },
  {
   "cell_type": "code",
   "execution_count": 6,
   "metadata": {},
   "outputs": [
    {
     "name": "stdout",
     "output_type": "stream",
     "text": [
      "frozenset()\n",
      "frozenset({'legal_person', 'Person'})\n"
     ]
    }
   ],
   "source": [
    "# schema 查看與建立 graph 的 框架\n",
    "# 對創建的空間下限制 \n",
    "graph.schema.create_uniqueness_constraint('Person', 'name')\n",
    "#graph.schema.drop_uniqueness_constraint('Person', 'name')\n",
    "\n",
    "print(graph.schema.relationship_types) # 查看 DB 的中現存的關係種類\n",
    "print(graph.schema.node_labels) # 查看 DB 的中現存節點標籤"
   ]
  },
  {
   "cell_type": "code",
   "execution_count": null,
   "metadata": {
    "vscode": {
     "languageId": "sql"
    }
   },
   "outputs": [],
   "source": [
    "CREATE CONSTRAINT ON (p:Person) ASSERT p.name IS UNIQUE \n",
    "// --- 舊版寫法 (即將捨棄)\n",
    "CREATE CONSTRAINT constraing_name FOR (m:Movie) REQUIRE m.title IS UNIQUE \n",
    "//---- 新版寫法\n",
    "\n",
    "// --- 舊版刪除 \n",
    "DROP CONSTRAINT ON (p:Person) ASSERT p.name IS UNIQUE\n",
    "// --- 新版刪除\n",
    "DROP CONSTRAINT constraing_name"
   ]
  },
  {
   "cell_type": "markdown",
   "metadata": {},
   "source": [
    "## transactions & create\n",
    "這兩個目的都是將現存在 python 的 點或子圖 與資料庫同步\n",
    "\n",
    "\n",
    "而 transcation 像是一步一步來，而 create 是吃子圖，一步到位"
   ]
  },
  {
   "cell_type": "code",
   "execution_count": 7,
   "metadata": {},
   "outputs": [
    {
     "data": {
      "text/plain": [
       "Subgraph({Node('Person', height=166, name='AY@'), Node('Person', age=25, height=180, name='EUJ')}, {KNOWS(Node('Person', height=166, name='AY@'), Node('Person', age=25, height=180, name='EUJ'))})"
      ]
     },
     "execution_count": 7,
     "metadata": {},
     "output_type": "execute_result"
    }
   ],
   "source": [
    "a = Node(\"Person\",name=\"AY@\",height=166)\n",
    "b_property = {'age': 25, 'height': 180}\n",
    "b = Node(\"Person\",name=\"EUJ\", **b_property)\n",
    "ab = Relationship(a, 'KNOWS', b)\n",
    "s = a | b | ab\n",
    "s"
   ]
  },
  {
   "cell_type": "code",
   "execution_count": 8,
   "metadata": {},
   "outputs": [],
   "source": [
    "# tx 作法\n",
    "tx = graph.begin()\n",
    "tx.create(s)\n",
    "# tx.commit() <---- 舊版\n",
    "graph.commit(tx) #<---- 新版\n",
    "# ---------\n",
    "# 或等價於\n",
    "# graph.create(s)"
   ]
  },
  {
   "cell_type": "markdown",
   "metadata": {},
   "source": [
    "通常將圖中的所有節點和關係構成一個子圖後再統一寫入資料庫，與多次寫入單個節點相比效率更高"
   ]
  },
  {
   "cell_type": "markdown",
   "metadata": {},
   "source": [
    "## 建立 demo 圖\n",
    "以 movie 為例"
   ]
  },
  {
   "cell_type": "code",
   "execution_count": null,
   "metadata": {
    "vscode": {
     "languageId": "sql"
    }
   },
   "outputs": [],
   "source": [
    "// Nodes\n",
    "CREATE (TheMatrix:Movie {title:'The Matrix', released:1999, tagline:'Welcome to the Real World'})\n",
    "CREATE (Keanu:Person {name:'Keanu Reeves', born:1964})\n",
    "CREATE (Carrie:Person {name:'Carrie-Anne Moss', born:1967})\n",
    "CREATE (Laurence:Person {name:'Laurence Fishburne', born:1961})\n",
    "CREATE (Hugo:Person {name:'Hugo Weaving', born:1960})\n",
    "CREATE (LillyW:Person {name:'Lilly Wachowski', born:1967})\n",
    "CREATE (LanaW:Person {name:'Lana Wachowski', born:1965})\n",
    "CREATE (JoelS:Person {name:'Joel Silver', born:1952})\n",
    "CREATE (Emil:Person {name:\"Emil Eifrem\", born:1978})\n",
    "CREATE (Emil)-[:ACTED_IN {roles:[\"Emil\"]}]->(TheMatrix)\n",
    "\n",
    "// Relationships\n",
    "CREATE\n",
    "  (Keanu)-[:ACTED_IN {roles:['Neo']}]->(TheMatrix),\n",
    "  (Carrie)-[:ACTED_IN {roles:['Trinity']}]->(TheMatrix),\n",
    "  (Laurence)-[:ACTED_IN {roles:['Morpheus']}]->(TheMatrix),\n",
    "  (Hugo)-[:ACTED_IN {roles:['Agent Smith']}]->(TheMatrix),\n",
    "  (LillyW)-[:DIRECTED]->(TheMatrix),\n",
    "  (LanaW)-[:DIRECTED]->(TheMatrix),\n",
    "  (JoelS)-[:PRODUCED]->(TheMatrix)"
   ]
  },
  {
   "cell_type": "code",
   "execution_count": 56,
   "metadata": {},
   "outputs": [],
   "source": [
    "TheMatrix = Node(\"Movie\", title='The Matrix', released=1999, tagline='Welcome to the Real World')\n",
    "Keanu = Node(\"Person\", name='Keanu Reeves', born=1964)\n",
    "Carrie = Node(\"Person\", name='Carrie-Anne Moss', born=1967)\n",
    "Laurence = Node(\"Person\", name='Laurence Fishburne', born=1961)\n",
    "Hugo = Node(\"Person\", name='Hugo Weaving', born=1960)\n",
    "LillyW = Node(\"Person\", name='Lilly Wachowski', born=1967)\n",
    "LanaW = Node(\"Person\", name='Lana Wachowski', born=1965)\n",
    "JoelS = Node(\"Person\", name='Joel Silver', born=1952)\n",
    "Emil = Node(\"Person\", name=\"Emil Eifrem\", born=1978)\n",
    "\n",
    "# Relationships\n",
    "LillyWTheMatrix = Relationship(LillyW, \"DIRECTED\", TheMatrix)\n",
    "LanaWTheMatrix = Relationship(LanaW, \"DIRECTED\", TheMatrix)\n",
    "JoelSTheMatrix = Relationship(JoelS, \"PRODUCED\", TheMatrix)\n",
    "\n",
    "# 建立 關係的屬性如字典的添加一樣\n",
    "# 可以直接賦予新的 key\n",
    "KeanuTheMatrix = Relationship(Keanu, \"ACTED_IN\", TheMatrix)\n",
    "KeanuTheMatrix['roles'] = ['Neo']\n",
    "\n",
    "# 也可以將現有的字典加上去\n",
    "relation_prob = {'roles': 'Trinity'}\n",
    "CarrieTheMatrix = Relationship(Carrie, \"ACTED_IN\", TheMatrix, **relation_prob)\n",
    "\n",
    "LaurenceTheMatrix = Relationship(Laurence, \"ACTED_IN\", TheMatrix)\n",
    "LaurenceTheMatrix['roles'] = ['Morpheus']\n",
    "HugoTheMatrix = Relationship(Hugo, \"ACTED_IN\", TheMatrix)\n",
    "HugoTheMatrix['roles'] = ['Agent Smith']\n",
    "EmilTheMatrix = Relationship(Emil, \"ACTED_IN\", TheMatrix)\n",
    "EmilTheMatrix['roles'] = ['Emil']"
   ]
  },
  {
   "cell_type": "code",
   "execution_count": 57,
   "metadata": {},
   "outputs": [],
   "source": [
    "tx = graph.begin()\n",
    "tx.create(TheMatrix)\n",
    "tx.create(Keanu)\n",
    "tx.create(Carrie)\n",
    "tx.create(Laurence)\n",
    "tx.create(Hugo)\n",
    "tx.create(LillyW)\n",
    "tx.create(LanaW)\n",
    "tx.create(JoelS)\n",
    "tx.create(Emil)\n",
    "tx.create(KeanuTheMatrix)\n",
    "tx.create(CarrieTheMatrix)\n",
    "tx.create(LaurenceTheMatrix)\n",
    "tx.create(HugoTheMatrix)\n",
    "tx.create(LillyWTheMatrix)\n",
    "tx.create(LanaWTheMatrix)\n",
    "tx.create(JoelSTheMatrix)\n",
    "tx.create(EmilTheMatrix)\n",
    "graph.commit(tx)"
   ]
  },
  {
   "cell_type": "markdown",
   "metadata": {},
   "source": [
    "## 搜尋\n",
    "搜尋有兩個選項\n",
    "\n",
    "使用 NodeMatcher\n",
    "\n",
    "或是用 graph.nodes.match"
   ]
  },
  {
   "cell_type": "code",
   "execution_count": 9,
   "metadata": {},
   "outputs": [
    {
     "data": {
      "text/plain": [
       "<py2neo.matching.NodeMatch at 0x10e0bcd90>"
      ]
     },
     "execution_count": 9,
     "metadata": {},
     "output_type": "execute_result"
    }
   ],
   "source": [
    "nodes_matcher = NodeMatcher(graph)\n",
    "nodes_matcher.match() # options 1\n",
    "\n",
    "# this is the same as\n",
    "graph.nodes.match() # options 2"
   ]
  },
  {
   "cell_type": "code",
   "execution_count": 10,
   "metadata": {},
   "outputs": [
    {
     "data": {
      "text/plain": [
       "True"
      ]
     },
     "execution_count": 10,
     "metadata": {},
     "output_type": "execute_result"
    }
   ],
   "source": [
    "# match 出來的結果會是一個可迭代物件\n",
    "# first 取出第一個\n",
    "# 或是 graph.nodes.get(1)\n",
    "match_using_matcher = nodes_matcher.match(name=\"Keanu Reeves\").first()\n",
    "match_using_graphnodes = graph.nodes.match(name=\"Keanu Reeves\").first()\n",
    "match_using_matcher == match_using_graphnodes"
   ]
  },
  {
   "cell_type": "code",
   "execution_count": 12,
   "metadata": {},
   "outputs": [
    {
     "ename": "AttributeError",
     "evalue": "'NodeMatch' object has no attribute 'data'",
     "output_type": "error",
     "traceback": [
      "\u001b[0;31m---------------------------------------------------------------------------\u001b[0m",
      "\u001b[0;31mAttributeError\u001b[0m                            Traceback (most recent call last)",
      "\u001b[0;32m/var/folders/3s/f9y7dqh17x51pd10nqlst3740000gn/T/ipykernel_13261/2414459555.py\u001b[0m in \u001b[0;36m<module>\u001b[0;34m\u001b[0m\n\u001b[0;32m----> 1\u001b[0;31m \u001b[0mnodes_matcher\u001b[0m\u001b[0;34m.\u001b[0m\u001b[0mmatch\u001b[0m\u001b[0;34m(\u001b[0m\u001b[0mname\u001b[0m\u001b[0;34m=\u001b[0m\u001b[0;34m\"Keanu Reeves\"\u001b[0m\u001b[0;34m)\u001b[0m\u001b[0;34m.\u001b[0m\u001b[0mdata\u001b[0m\u001b[0;34m\u001b[0m\u001b[0;34m\u001b[0m\u001b[0m\n\u001b[0m",
      "\u001b[0;31mAttributeError\u001b[0m: 'NodeMatch' object has no attribute 'data'"
     ]
    }
   ],
   "source": [
    "nodes_matcher.match(name=\"Keanu Reeves\").data"
   ]
  },
  {
   "cell_type": "markdown",
   "metadata": {},
   "source": [
    "精準查詢"
   ]
  },
  {
   "cell_type": "code",
   "execution_count": 13,
   "metadata": {},
   "outputs": [
    {
     "name": "stdout",
     "output_type": "stream",
     "text": [
      "(_173:Movie {released: 1999, tagline: 'Welcome to the Real World', title: 'The Matrix'})\n",
      "(_183:Movie {released: 2003, tagline: 'Everything that has a beginning has an end', title: 'The Matrix Revolutions'})\n"
     ]
    }
   ],
   "source": [
    "# 可下一些簡單的限制 ex: Starts with, Ends with, Less than or equal\n",
    "cursor = graph.nodes.match('Movie').where(\"_.title CONTAINS 'Matrix' AND NOT _.title ENDS WITH 'Reloaded' \")\n",
    "for node in cursor:\n",
    "    print(node)"
   ]
  },
  {
   "cell_type": "code",
   "execution_count": 91,
   "metadata": {},
   "outputs": [
    {
     "data": {
      "text/plain": [
       "[Node('Person', born=1964, name='Keanu Reeves'),\n",
       " Node('Person', born=1967, name='Carrie-Anne Moss'),\n",
       " Node('Person', born=1961, name='Laurence Fishburne'),\n",
       " Node('Person', born=1960, name='Hugo Weaving'),\n",
       " Node('Person', born=1967, name='Lilly Wachowski'),\n",
       " Node('Person', born=1965, name='Lana Wachowski'),\n",
       " Node('Person', born=1952, name='Joel Silver'),\n",
       " Node('Person', born=1978, name='Emil Eifrem'),\n",
       " Node('Person', born=1975, name='Charlize Theron'),\n",
       " Node('Person', born=1940, name='Al Pacino')]"
      ]
     },
     "execution_count": 91,
     "metadata": {},
     "output_type": "execute_result"
    }
   ],
   "source": [
    "# MATCH (people:Person) RETURN people.name LIMIT 10\n",
    "nodes_matcher.match(\"Person\").limit(10).all()"
   ]
  },
  {
   "cell_type": "markdown",
   "metadata": {},
   "source": [
    "關係查詢"
   ]
  },
  {
   "cell_type": "code",
   "execution_count": 24,
   "metadata": {},
   "outputs": [
    {
     "data": {
      "text/plain": [
       "<py2neo.matching.RelationshipMatch at 0x11d101d10>"
      ]
     },
     "execution_count": 24,
     "metadata": {},
     "output_type": "execute_result"
    }
   ],
   "source": [
    "relationship_matcher = RelationshipMatcher(graph)\n",
    "relationship_matcher.match()\n",
    "\n",
    "# this is the same as:\n",
    "\n",
    "graph.relationships.match()"
   ]
  },
  {
   "cell_type": "code",
   "execution_count": 15,
   "metadata": {},
   "outputs": [
    {
     "data": {
      "text/plain": [
       "'A League of Their Own'"
      ]
     },
     "execution_count": 15,
     "metadata": {},
     "output_type": "execute_result"
    }
   ],
   "source": [
    "tom = graph.nodes.match(name=\"Tom Hanks\").first()\n",
    "all_movies = graph.match(nodes=[tom], r_type=\"ACTED_IN\").all()\n",
    "all_movies[0].end_node['title']"
   ]
  },
  {
   "cell_type": "markdown",
   "metadata": {},
   "source": [
    "尋找：以 Tom Hanks 為出發點，以 ACTED_IN 關係連接的點\n",
    "\n",
    "尋找有很多結果，所以回傳會是 list 的方式\n",
    "\n",
    "（tom）- [ACT_IN] -> ()\n",
    "\n",
    "(start_node) -[] -> (end_node)"
   ]
  },
  {
   "cell_type": "code",
   "execution_count": 39,
   "metadata": {},
   "outputs": [
    {
     "data": {
      "text/plain": [
       "ACTED_IN(Node('Person', born=1956, name='Tom Hanks'), Node('Movie', released=1992, tagline='Once in a lifetime you get a chance to do something different.', title='A League of Their Own'), roles=['Jimmy Dugan'])"
      ]
     },
     "execution_count": 39,
     "metadata": {},
     "output_type": "execute_result"
    }
   ],
   "source": [
    "all_movies[0]"
   ]
  },
  {
   "cell_type": "markdown",
   "metadata": {},
   "source": [
    "## Cypher Shell\n",
    "\n",
    "由上面的例子可以看到，不管是建立或是查詢，點跟關係在 py2neo 是兩件分開進行的事\n",
    "\n",
    "但實際上這兩個密不可分，所以就來看 cypher 如何在 python 上運行"
   ]
  },
  {
   "cell_type": "markdown",
   "metadata": {},
   "source": [
    "查詢 Cloud Atlas 這部電影是 （誰）[導演] 的"
   ]
  },
  {
   "cell_type": "code",
   "execution_count": 104,
   "metadata": {},
   "outputs": [
    {
     "data": {
      "text/plain": [
       "[{'directors.name': 'Tom Tykwer'},\n",
       " {'directors.name': 'Lilly Wachowski'},\n",
       " {'directors.name': 'Lana Wachowski'}]"
      ]
     },
     "execution_count": 104,
     "metadata": {},
     "output_type": "execute_result"
    }
   ],
   "source": [
    "results = graph.run('MATCH (m {title: \"Cloud Atlas\"})<-[:DIRECTED]-(directors) RETURN directors.name')\n",
    "# 由 cypher 所回傳的結果稱為 cursor ，可以透過 forward 步遍\n",
    "results.data()\n"
   ]
  },
  {
   "cell_type": "markdown",
   "metadata": {},
   "source": [
    "等價於下面這段\n",
    "\n",
    "先找出 cloudAtlas 在哪裏\n",
    "\n",
    "再根據這個點把有導演過的電影找出來\n",
    "\n",
    "要注意的是這個 nodes\n",
    "\n",
    "    Sequence or Set of start and end nodes (None means any node); a Set implies a match in any direction\n",
    "\n",
    "不可以亂放\n",
    "\n"
   ]
  },
  {
   "cell_type": "code",
   "execution_count": 52,
   "metadata": {},
   "outputs": [
    {
     "name": "stdout",
     "output_type": "stream",
     "text": [
      "Tom Tykwer\n",
      "Lana Wachowski\n",
      "Lilly Wachowski\n"
     ]
    }
   ],
   "source": [
    "cloudAtlas = nodes_matcher.match(title=\"Cloud Atlas\").first()\n",
    "directors = graph.match(r_type=\"DIRECTED\", nodes=[None, cloudAtlas])\n",
    "for director in directors:\n",
    "     print(director.nodes[0]['name'])"
   ]
  },
  {
   "cell_type": "code",
   "execution_count": 108,
   "metadata": {},
   "outputs": [
    {
     "name": "stdout",
     "output_type": "stream",
     "text": [
      "'Madonna'\n",
      "'Lori Petty'\n",
      "\"Rosie O'Donnell\"\n",
      "'Geena Davis'\n",
      "'Bill Paxton'\n",
      "'Philip Seymour Hoffman'\n",
      "'Julia Roberts'\n",
      "'Audrey Tautou'\n",
      "'Ian McKellen'\n",
      "'Paul Bettany'\n",
      "'Jim Broadbent'\n",
      "'Halle Berry'\n",
      "'Hugo Weaving'\n",
      "'Bonnie Hunt'\n",
      "'Sam Rockwell'\n",
      "'David Morse'\n",
      "'James Cromwell'\n",
      "'Patricia Clarkson'\n",
      "'Gary Sinise'\n",
      "'Michael Clarke Duncan'\n",
      "'Kevin Bacon'\n",
      "'Ed Harris'\n",
      "'Bill Paxton'\n",
      "'Gary Sinise'\n",
      "'Helen Hunt'\n",
      "'Dave Chappelle'\n",
      "'Greg Kinnear'\n",
      "'Steve Zahn'\n",
      "'Parker Posey'\n",
      "'Meg Ryan'\n",
      "'Charlize Theron'\n",
      "'Liv Tyler'\n",
      "'Meg Ryan'\n",
      "'Nathan Lane'\n",
      "'Rita Wilson'\n",
      "'Meg Ryan'\n",
      "\"Rosie O'Donnell\"\n",
      "'Victor Garber'\n",
      "'Bill Pullman'\n"
     ]
    }
   ],
   "source": [
    "result = graph.run('MATCH (tom:Person {name:\"Tom Hanks\"})-[:ACTED_IN]->(m)<-[:ACTED_IN]-(coActors) RETURN coActors.name')\n",
    "while result.forward():\n",
    "    print(result.current)"
   ]
  },
  {
   "cell_type": "code",
   "execution_count": 27,
   "metadata": {},
   "outputs": [
    {
     "name": "stdout",
     "output_type": "stream",
     "text": [
      "[{'p': Path(Node('Person', born=1958, name='Kevin Bacon'), ACTED_IN(Node('Person', born=1958, name='Kevin Bacon'), Node('Movie', released=1995, tagline='Houston, we have a problem.', title='Apollo 13'), roles=['Jack Swigert']), ACTED_IN(Node('Person', born=1956, name='Tom Hanks'), Node('Movie', released=1995, tagline='Houston, we have a problem.', title='Apollo 13'), roles=['Jim Lovell']), ACTED_IN(Node('Person', born=1956, name='Tom Hanks'), Node('Movie', released=1990, tagline='A story of love, lava and burning desire.', title='Joe Versus the Volcano'), roles=['Joe Banks']), ACTED_IN(Node('Person', born=1961, name='Meg Ryan'), Node('Movie', released=1990, tagline='A story of love, lava and burning desire.', title='Joe Versus the Volcano'), roles=['DeDe', 'Angelica Graynamore', 'Patricia Graynamore']))}]\n",
      "4\n"
     ]
    }
   ],
   "source": [
    "results = graph.run('MATCH p=shortestPath((bacon:Person {name:\"Kevin Bacon\"})-[*]-(meg:Person {name:\"Meg Ryan\"})) RETURN p')\n",
    "print(results.data())\n",
    "print(len(results[0]))"
   ]
  },
  {
   "cell_type": "code",
   "execution_count": 28,
   "metadata": {},
   "outputs": [
    {
     "data": {
      "text/plain": [
       "Path(Node('Person', born=1958, name='Kevin Bacon'), ACTED_IN(Node('Person', born=1958, name='Kevin Bacon'), Node('Movie', released=1995, tagline='Houston, we have a problem.', title='Apollo 13'), roles=['Jack Swigert']), ACTED_IN(Node('Person', born=1956, name='Tom Hanks'), Node('Movie', released=1995, tagline='Houston, we have a problem.', title='Apollo 13'), roles=['Jim Lovell']), ACTED_IN(Node('Person', born=1956, name='Tom Hanks'), Node('Movie', released=1990, tagline='A story of love, lava and burning desire.', title='Joe Versus the Volcano'), roles=['Joe Banks']), ACTED_IN(Node('Person', born=1961, name='Meg Ryan'), Node('Movie', released=1990, tagline='A story of love, lava and burning desire.', title='Joe Versus the Volcano'), roles=['DeDe', 'Angelica Graynamore', 'Patricia Graynamore']))"
      ]
     },
     "execution_count": 28,
     "metadata": {},
     "output_type": "execute_result"
    }
   ],
   "source": [
    "results[0]"
   ]
  }
 ],
 "metadata": {
  "interpreter": {
   "hash": "1c56087271ff6a509c683d39c4752c92b0c6dd1c18eb7c5bc5e74a18e6efaff3"
  },
  "kernelspec": {
   "display_name": "Python 3.7.13 ('venv': venv)",
   "language": "python",
   "name": "python3"
  },
  "language_info": {
   "codemirror_mode": {
    "name": "ipython",
    "version": 3
   },
   "file_extension": ".py",
   "mimetype": "text/x-python",
   "name": "python",
   "nbconvert_exporter": "python",
   "pygments_lexer": "ipython3",
   "version": "3.7.13"
  },
  "orig_nbformat": 4
 },
 "nbformat": 4,
 "nbformat_minor": 2
}
