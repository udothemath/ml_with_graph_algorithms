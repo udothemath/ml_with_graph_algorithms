{
 "cells": [
  {
   "cell_type": "code",
   "execution_count": 1,
   "id": "28c6d857",
   "metadata": {},
   "outputs": [
    {
     "name": "stderr",
     "output_type": "stream",
     "text": [
      "Using TensorFlow backend.\n"
     ]
    }
   ],
   "source": [
    "import torch\n",
    "from torch.nn import functional as F\n",
    "from torch import nn\n",
    "from torch.optim import Adam\n",
    "from torch.utils.data import DataLoader, random_split\n",
    "from keras.datasets import mnist\n",
    "import os\n",
    "from torchvision import datasets, transforms"
   ]
  },
  {
   "cell_type": "code",
   "execution_count": 2,
   "id": "b3461398",
   "metadata": {},
   "outputs": [],
   "source": [
    "class AutoEncoder(nn.Module):\n",
    "    def __init__(self):\n",
    "        super().__init__()\n",
    "        \n",
    "        self.encoder = nn.Sequential(nn.Linear(28*28, 64), nn.ReLU(), nn.Linear(64, 3))\n",
    "        self.decoder = nn.Sequential(nn.Linear(3, 64), nn.ReLU(), nn.Linear(64, 28*28))\n",
    "        \n",
    "    def forward(self, x):\n",
    "        z = self.encoder(x)\n",
    "        x = self.decoder(z)\n",
    "        return z, x\n",
    "\n",
    "model = AutoEncoder().cuda(0)"
   ]
  },
  {
   "cell_type": "code",
   "execution_count": 3,
   "id": "81edbee4",
   "metadata": {},
   "outputs": [],
   "source": [
    "(mnist_train, _), _ = mnist.load_data()\n",
    "\n",
    "mnist_train = torch.Tensor(mnist_train)\n",
    "mnist_train /= 255.\n",
    "\n",
    "mnist_train, mnist_val = random_split(mnist_train, [55000, 5000])\n",
    "\n",
    "mnist_train = DataLoader(mnist_train, batch_size=64)\n",
    "mnist_val = DataLoader(mnist_val, batch_size=64)"
   ]
  },
  {
   "cell_type": "code",
   "execution_count": 4,
   "id": "180b3887",
   "metadata": {},
   "outputs": [],
   "source": [
    "optimizer = Adam(model.parameters(), lr=1e-3)"
   ]
  },
  {
   "cell_type": "code",
   "execution_count": 5,
   "id": "81615559",
   "metadata": {},
   "outputs": [
    {
     "name": "stdout",
     "output_type": "stream",
     "text": [
      "train_loss: 0.0007822969600558281\n"
     ]
    }
   ],
   "source": [
    "model.train()\n",
    "for epoch in range(1):\n",
    "    total_loss = 0\n",
    "    for train_batch in mnist_train:\n",
    "        optimizer.zero_grad()\n",
    "        x = train_batch.cuda(0)\n",
    "        x = x.view(x.size(0), -1)\n",
    "        z, x_hat = model(x)\n",
    "        loss = F.mse_loss(x_hat, x)\n",
    "        total_loss += loss.item()\n",
    "        loss.backward()\n",
    "        optimizer.step()\n",
    "    print('train_loss:', total_loss/55000)"
   ]
  },
  {
   "cell_type": "code",
   "execution_count": 6,
   "id": "8e23295d",
   "metadata": {},
   "outputs": [
    {
     "name": "stdout",
     "output_type": "stream",
     "text": [
      "val_loss: 0.0006770172156393528\n"
     ]
    }
   ],
   "source": [
    "model.eval()\n",
    "with torch.no_grad():\n",
    "    val_loss = 0\n",
    "    for val_batch in mnist_val:\n",
    "        x = val_batch.cuda(0)\n",
    "        x = x.view(x.size(0), -1)\n",
    "        z, x_hat = model(x)\n",
    "        loss = F.mse_loss(x_hat, x)\n",
    "        val_loss += loss.item()\n",
    "    print('val_loss:', val_loss/5000)"
   ]
  },
  {
   "cell_type": "code",
   "execution_count": null,
   "id": "eb4c96a3",
   "metadata": {},
   "outputs": [],
   "source": []
  }
 ],
 "metadata": {
  "kernelspec": {
   "display_name": "Python 3",
   "language": "python",
   "name": "python3"
  },
  "language_info": {
   "codemirror_mode": {
    "name": "ipython",
    "version": 3
   },
   "file_extension": ".py",
   "mimetype": "text/x-python",
   "name": "python",
   "nbconvert_exporter": "python",
   "pygments_lexer": "ipython3",
   "version": "3.7.10"
  }
 },
 "nbformat": 4,
 "nbformat_minor": 5
}
