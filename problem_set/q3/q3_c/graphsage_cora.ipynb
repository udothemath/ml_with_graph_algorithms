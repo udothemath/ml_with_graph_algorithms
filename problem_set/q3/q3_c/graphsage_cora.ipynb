{
 "cells": [
  {
   "cell_type": "code",
   "execution_count": 1,
   "id": "ee05b9a7",
   "metadata": {},
   "outputs": [],
   "source": [
    "import os.path as osp\n",
    "\n",
    "import torch\n",
    "import torch.nn as nn\n",
    "import torch.nn.functional as F\n",
    "from torch_cluster import random_walk\n",
    "from sklearn.linear_model import LogisticRegression\n",
    "\n",
    "import torch_geometric.transforms as T\n",
    "from torch_geometric.nn import SAGEConv\n",
    "from torch_geometric.datasets import Planetoid\n",
    "from torch_geometric.loader import NeighborSampler as RawNeighborSampler"
   ]
  },
  {
   "cell_type": "code",
   "execution_count": 3,
   "id": "45384e90",
   "metadata": {},
   "outputs": [
    {
     "name": "stderr",
     "output_type": "stream",
     "text": [
      "Downloading https://github.com/kimiyoung/planetoid/raw/master/data/ind.cora.x\n",
      "Downloading https://github.com/kimiyoung/planetoid/raw/master/data/ind.cora.tx\n",
      "Downloading https://github.com/kimiyoung/planetoid/raw/master/data/ind.cora.allx\n",
      "Downloading https://github.com/kimiyoung/planetoid/raw/master/data/ind.cora.y\n",
      "Downloading https://github.com/kimiyoung/planetoid/raw/master/data/ind.cora.ty\n",
      "Downloading https://github.com/kimiyoung/planetoid/raw/master/data/ind.cora.ally\n",
      "Downloading https://github.com/kimiyoung/planetoid/raw/master/data/ind.cora.graph\n",
      "Downloading https://github.com/kimiyoung/planetoid/raw/master/data/ind.cora.test.index\n",
      "Processing...\n",
      "Done!\n"
     ]
    }
   ],
   "source": [
    "EPS = 1e-15\n",
    "\n",
    "dataset = 'Cora'\n",
    "path = osp.join(osp.dirname(osp.realpath('__file__')), '..', 'data', dataset)\n",
    "dataset = Planetoid(path, dataset, transform=T.NormalizeFeatures())\n",
    "data = dataset[0]"
   ]
  },
  {
   "cell_type": "code",
   "execution_count": 15,
   "id": "dbb17f27",
   "metadata": {},
   "outputs": [
    {
     "data": {
      "text/plain": [
       "tensor([[   0,    0,    0,  ..., 2707, 2707, 2707],\n",
       "        [ 633, 1862, 2582,  ...,  598, 1473, 2706]])"
      ]
     },
     "execution_count": 15,
     "metadata": {},
     "output_type": "execute_result"
    }
   ],
   "source": [
    "data.edge_index"
   ]
  },
  {
   "cell_type": "code",
   "execution_count": 4,
   "id": "8c528c7d",
   "metadata": {},
   "outputs": [],
   "source": [
    "class NeighborSampler(RawNeighborSampler):\n",
    "    def sample(self, batch):\n",
    "        batch = torch.tensor(batch)\n",
    "        row, col, _ = self.adj_t.coo()\n",
    "\n",
    "        # For each node in `batch`, we sample a direct neighbor (as positive\n",
    "        # example) and a random node (as negative example):\n",
    "        pos_batch = random_walk(row, col, batch, walk_length=1,\n",
    "                                coalesced=False)[:, 1]\n",
    "\n",
    "        neg_batch = torch.randint(0, self.adj_t.size(1), (batch.numel(), ),\n",
    "                                  dtype=torch.long)\n",
    "\n",
    "        batch = torch.cat([batch, pos_batch, neg_batch], dim=0)\n",
    "        return super(NeighborSampler, self).sample(batch)"
   ]
  },
  {
   "cell_type": "code",
   "execution_count": 5,
   "id": "95baf2af",
   "metadata": {},
   "outputs": [],
   "source": [
    "train_loader = NeighborSampler(data.edge_index, sizes=[10, 10], batch_size=256,\n",
    "                               shuffle=True, num_nodes=data.num_nodes)"
   ]
  },
  {
   "cell_type": "code",
   "execution_count": 6,
   "id": "8c1087b2",
   "metadata": {},
   "outputs": [],
   "source": [
    "class SAGE(nn.Module):\n",
    "    def __init__(self, in_channels, hidden_channels, num_layers):\n",
    "        super(SAGE, self).__init__()\n",
    "        self.num_layers = num_layers\n",
    "        self.convs = nn.ModuleList()\n",
    "        for i in range(num_layers):\n",
    "            in_channels = in_channels if i == 0 else hidden_channels\n",
    "            self.convs.append(SAGEConv(in_channels, hidden_channels))\n",
    "\n",
    "    def forward(self, x, adjs):\n",
    "        for i, (edge_index, _, size) in enumerate(adjs):\n",
    "            x_target = x[:size[1]]  # Target nodes are always placed first.\n",
    "            x = self.convs[i]((x, x_target), edge_index)\n",
    "            if i != self.num_layers - 1:\n",
    "                x = x.relu()\n",
    "                x = F.dropout(x, p=0.5, training=self.training)\n",
    "        return x\n",
    "\n",
    "    def full_forward(self, x, edge_index):\n",
    "        for i, conv in enumerate(self.convs):\n",
    "            x = conv(x, edge_index)\n",
    "            if i != self.num_layers - 1:\n",
    "                x = x.relu()\n",
    "                x = F.dropout(x, p=0.5, training=self.training)\n",
    "        return x"
   ]
  },
  {
   "cell_type": "code",
   "execution_count": 7,
   "id": "a03cb824",
   "metadata": {},
   "outputs": [],
   "source": [
    "device = torch.device('cuda' if torch.cuda.is_available() else 'cpu')\n",
    "model = SAGE(data.num_node_features, hidden_channels=64, num_layers=2)\n",
    "model = model.to(device)\n",
    "optimizer = torch.optim.Adam(model.parameters(), lr=0.01)\n",
    "x, edge_index = data.x.to(device), data.edge_index.to(device)"
   ]
  },
  {
   "cell_type": "code",
   "execution_count": 8,
   "id": "dce2a8fc",
   "metadata": {},
   "outputs": [],
   "source": [
    "def train():\n",
    "    model.train()\n",
    "\n",
    "    total_loss = 0\n",
    "    for batch_size, n_id, adjs in train_loader:\n",
    "        # `adjs` holds a list of `(edge_index, e_id, size)` tuples.\n",
    "        adjs = [adj.to(device) for adj in adjs]\n",
    "        optimizer.zero_grad()\n",
    "\n",
    "        out = model(x[n_id], adjs)\n",
    "        out, pos_out, neg_out = out.split(out.size(0) // 3, dim=0)\n",
    "\n",
    "        pos_loss = F.logsigmoid((out * pos_out).sum(-1)).mean()\n",
    "        neg_loss = F.logsigmoid(-(out * neg_out).sum(-1)).mean()\n",
    "        loss = -pos_loss - neg_loss\n",
    "        loss.backward()\n",
    "        optimizer.step()\n",
    "\n",
    "        total_loss += float(loss) * out.size(0)\n",
    "\n",
    "    return total_loss / data.num_nodes"
   ]
  },
  {
   "cell_type": "code",
   "execution_count": 9,
   "id": "1a213f80",
   "metadata": {},
   "outputs": [],
   "source": [
    "@torch.no_grad()\n",
    "def test():\n",
    "    model.eval()\n",
    "    out = model.full_forward(x, edge_index).cpu()\n",
    "\n",
    "    clf = LogisticRegression()\n",
    "    clf.fit(out[data.train_mask], data.y[data.train_mask])\n",
    "\n",
    "    val_acc = clf.score(out[data.val_mask], data.y[data.val_mask])\n",
    "    test_acc = clf.score(out[data.test_mask], data.y[data.test_mask])\n",
    "\n",
    "    return val_acc, test_acc"
   ]
  },
  {
   "cell_type": "code",
   "execution_count": 10,
   "id": "673e28f5",
   "metadata": {},
   "outputs": [
    {
     "name": "stdout",
     "output_type": "stream",
     "text": [
      "Epoch: 001, Loss: 1.3818, Val: 0.3800, Test: 0.3860\n",
      "Epoch: 002, Loss: 1.2618, Val: 0.4760, Test: 0.5040\n",
      "Epoch: 003, Loss: 1.1592, Val: 0.5620, Test: 0.5770\n",
      "Epoch: 004, Loss: 1.0773, Val: 0.5840, Test: 0.6140\n",
      "Epoch: 005, Loss: 1.0558, Val: 0.6040, Test: 0.6300\n",
      "Epoch: 006, Loss: 1.0731, Val: 0.6240, Test: 0.6440\n",
      "Epoch: 007, Loss: 1.0199, Val: 0.6780, Test: 0.6750\n",
      "Epoch: 008, Loss: 1.0297, Val: 0.6900, Test: 0.6790\n",
      "Epoch: 009, Loss: 1.0165, Val: 0.6960, Test: 0.6870\n",
      "Epoch: 010, Loss: 0.9857, Val: 0.7060, Test: 0.7010\n",
      "Epoch: 011, Loss: 0.9538, Val: 0.7020, Test: 0.7080\n",
      "Epoch: 012, Loss: 0.9526, Val: 0.7120, Test: 0.7140\n",
      "Epoch: 013, Loss: 0.9729, Val: 0.7260, Test: 0.7230\n",
      "Epoch: 014, Loss: 0.9647, Val: 0.7300, Test: 0.7460\n",
      "Epoch: 015, Loss: 0.9579, Val: 0.7380, Test: 0.7460\n",
      "Epoch: 016, Loss: 0.9446, Val: 0.7220, Test: 0.7470\n",
      "Epoch: 017, Loss: 0.9300, Val: 0.7140, Test: 0.7330\n",
      "Epoch: 018, Loss: 0.9375, Val: 0.7180, Test: 0.7320\n",
      "Epoch: 019, Loss: 0.9197, Val: 0.7140, Test: 0.7350\n",
      "Epoch: 020, Loss: 0.9705, Val: 0.7100, Test: 0.7200\n",
      "Epoch: 021, Loss: 0.9328, Val: 0.7100, Test: 0.7260\n",
      "Epoch: 022, Loss: 0.9338, Val: 0.7060, Test: 0.7440\n",
      "Epoch: 023, Loss: 0.9174, Val: 0.7160, Test: 0.7450\n",
      "Epoch: 024, Loss: 0.9303, Val: 0.7160, Test: 0.7430\n",
      "Epoch: 025, Loss: 0.9289, Val: 0.7180, Test: 0.7410\n",
      "Epoch: 026, Loss: 0.9359, Val: 0.7140, Test: 0.7400\n",
      "Epoch: 027, Loss: 0.9107, Val: 0.7160, Test: 0.7410\n",
      "Epoch: 028, Loss: 0.9149, Val: 0.7180, Test: 0.7490\n",
      "Epoch: 029, Loss: 0.9250, Val: 0.7040, Test: 0.7340\n",
      "Epoch: 030, Loss: 0.9178, Val: 0.7180, Test: 0.7290\n",
      "Epoch: 031, Loss: 0.9092, Val: 0.7260, Test: 0.7380\n",
      "Epoch: 032, Loss: 0.9145, Val: 0.7200, Test: 0.7340\n",
      "Epoch: 033, Loss: 0.8902, Val: 0.7140, Test: 0.7250\n",
      "Epoch: 034, Loss: 0.9216, Val: 0.7060, Test: 0.7240\n",
      "Epoch: 035, Loss: 0.9089, Val: 0.7040, Test: 0.7210\n",
      "Epoch: 036, Loss: 0.9103, Val: 0.7120, Test: 0.7260\n",
      "Epoch: 037, Loss: 0.9144, Val: 0.7080, Test: 0.7220\n",
      "Epoch: 038, Loss: 0.8913, Val: 0.7180, Test: 0.7310\n",
      "Epoch: 039, Loss: 0.9073, Val: 0.7240, Test: 0.7380\n",
      "Epoch: 040, Loss: 0.9254, Val: 0.7160, Test: 0.7420\n",
      "Epoch: 041, Loss: 0.9025, Val: 0.7080, Test: 0.7380\n",
      "Epoch: 042, Loss: 0.9019, Val: 0.7140, Test: 0.7360\n",
      "Epoch: 043, Loss: 0.8786, Val: 0.7060, Test: 0.7340\n",
      "Epoch: 044, Loss: 0.9303, Val: 0.7220, Test: 0.7430\n",
      "Epoch: 045, Loss: 0.8996, Val: 0.7240, Test: 0.7480\n",
      "Epoch: 046, Loss: 0.9214, Val: 0.7160, Test: 0.7410\n",
      "Epoch: 047, Loss: 0.8996, Val: 0.7100, Test: 0.7360\n",
      "Epoch: 048, Loss: 0.9122, Val: 0.7000, Test: 0.7490\n",
      "Epoch: 049, Loss: 0.8968, Val: 0.7080, Test: 0.7490\n",
      "Epoch: 050, Loss: 0.8665, Val: 0.7040, Test: 0.7390\n"
     ]
    }
   ],
   "source": [
    "for epoch in range(1, 51):\n",
    "    loss = train()\n",
    "    val_acc, test_acc = test()\n",
    "    print(f'Epoch: {epoch:03d}, Loss: {loss:.4f}, '\n",
    "          f'Val: {val_acc:.4f}, Test: {test_acc:.4f}')"
   ]
  },
  {
   "cell_type": "code",
   "execution_count": null,
   "id": "1b40bd08",
   "metadata": {},
   "outputs": [],
   "source": []
  }
 ],
 "metadata": {
  "kernelspec": {
   "display_name": "Python 3 (ipykernel)",
   "language": "python",
   "name": "python3"
  },
  "language_info": {
   "codemirror_mode": {
    "name": "ipython",
    "version": 3
   },
   "file_extension": ".py",
   "mimetype": "text/x-python",
   "name": "python",
   "nbconvert_exporter": "python",
   "pygments_lexer": "ipython3",
   "version": "3.7.10"
  }
 },
 "nbformat": 4,
 "nbformat_minor": 5
}
